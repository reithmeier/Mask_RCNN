{
 "cells": [
  {
   "cell_type": "markdown",
   "metadata": {
    "collapsed": true
   },
   "source": [
    "### Training"
   ]
  },
  {
   "cell_type": "code",
   "execution_count": null,
   "metadata": {},
   "outputs": [],
   "source": [
    "import os\n",
    "import sys\n",
    "\n",
    "# Root directory of the project\n",
    "ROOT_DIR = os.path.abspath(\"../\")\n",
    "\n",
    "# Import Mask RCNN\n",
    "sys.path.append(ROOT_DIR)  # To find local version of the library\n",
    "\n",
    "\n",
    "# Constants\n",
    "SUN = \"SUN\"\n",
    "ELEVATOR = \"ELEVATOR\"\n",
    "MODEL_DIR = os.path.join(\"D:\\Masterarbeit\\Mask_RCNN\\logs\\\\\")\n",
    "ELEVATOR_DIR = os.path.abspath(\"I:\\Data\\elevator\\preprocessed\")\n",
    "SUN_DIR = os.path.abspath(\"I:\\Data\\sun_rgbd\\crop\\\\\")\n",
    "RGB = \"RGB\"\n",
    "D = \"D\" \n",
    "RGBDParallel = \"RGBDParallel\"\n",
    "MODEL_FILE = \"sunrgb20200517T1349\\mask_rcnn_sunrgb_0052.h5\""
   ]
  },
  {
   "cell_type": "code",
   "execution_count": null,
   "metadata": {},
   "outputs": [],
   "source": [
    "from samples.training_strategy import main \n",
    "\n",
    "main(data_set=SUN, data_dir=SUN_DIR, model_dir=MODEL_DIR, strategy=RGB, augment=True, load_model=False, \n",
    "     model_name=MODEL_FILE, init_epoch=0, train_layers=\"all\", backbone=\"resnet101\", batch_size=1)\n"
   ]
  },
  {
   "cell_type": "code",
   "execution_count": null,
   "metadata": {},
   "outputs": [],
   "source": [
    "import tensorflow as tf"
   ]
  },
  {
   "cell_type": "code",
   "execution_count": null,
   "metadata": {},
   "outputs": [],
   "source": [
    "tf.test.is_gpu_available()"
   ]
  },
  {
   "cell_type": "code",
   "execution_count": null,
   "metadata": {},
   "outputs": [],
   "source": [
    "tf.config.list_physical_devices('GPU')"
   ]
  },
  {
   "cell_type": "code",
   "execution_count": null,
   "metadata": {},
   "outputs": [],
   "source": [
    "tf.__version__"
   ]
  },
  {
   "cell_type": "code",
   "execution_count": null,
   "metadata": {},
   "outputs": [],
   "source": [
    "tf.config.list_physical_devices()"
   ]
  },
  {
   "cell_type": "code",
   "execution_count": null,
   "metadata": {},
   "outputs": [],
   "source": [
    "tf.test.is_built_with_cuda()"
   ]
  },
  {
   "cell_type": "code",
   "execution_count": null,
   "metadata": {},
   "outputs": [],
   "source": [
    "from samples.hyper_parameter_optimization import grid_search \n",
    "MODEL_DIR=MODEL_DIR+\"\\\\hparam_tuning\\\\\"\n",
    "grid_search(data_dir=SUN_DIR, log_dir=MODEL_DIR, epochs=1)\n"
   ]
  },
  {
   "cell_type": "code",
   "execution_count": null,
   "metadata": {},
   "outputs": [],
   "source": [
    "from samples.hyper_parameter_optimization import TPESearch \n",
    "MODEL_DIR=MODEL_DIR+\"\\\\hparam_tuning\\\\\"\n",
    "tpe_search = TPESearch(data_dir=SUN_DIR, log_dir=MODEL_DIR, epochs=1)\n",
    "tpe_search.run()"
   ]
  },
  {
   "cell_type": "code",
   "execution_count": null,
   "metadata": {},
   "outputs": [],
   "source": []
  }
 ],
 "metadata": {
  "kernelspec": {
   "display_name": "Python 3",
   "language": "python",
   "name": "python3"
  },
  "language_info": {
   "codemirror_mode": {
    "name": "ipython",
    "version": 3
   },
   "file_extension": ".py",
   "mimetype": "text/x-python",
   "name": "python",
   "nbconvert_exporter": "python",
   "pygments_lexer": "ipython3",
   "version": "3.6.7"
  }
 },
 "nbformat": 4,
 "nbformat_minor": 1
}

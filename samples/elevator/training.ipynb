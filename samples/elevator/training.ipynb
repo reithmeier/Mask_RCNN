{
 "cells": [
  {
   "cell_type": "markdown",
   "metadata": {
    "collapsed": true
   },
   "source": [
    "### Training"
   ]
  },
  {
   "cell_type": "code",
   "execution_count": null,
   "metadata": {},
   "outputs": [],
   "source": [
    "import os\n",
    "import sys\n",
    "\n",
    "# Root directory of the project\n",
    "ROOT_DIR = os.path.abspath(\"../../\")\n",
    "\n",
    "# Import Mask RCNN\n",
    "sys.path.append(ROOT_DIR)  # To find local version of the library\n",
    "\n",
    "from samples.elevator.training_strategy import main \n",
    "\n",
    "# Constants\n",
    "SUN = \"SUN\"\n",
    "ELEVATOR = \"ELEVATOR\"\n",
    "MODEL_DIR = os.path.join(\"D:\\Masterarbeit\\Mask_RCNN\\logs\\\\\")\n",
    "ELEVATOR_DIR = os.path.abspath(\"I:\\Data\\elevator\\preprocessed\")\n",
    "SUN_DIR = os.path.abspath(\"D:\\Masterarbeit\\Mask_RCNN\\datasets\\sun_rgbd\\crop\\\\\")\n",
    "RGB = \"RGB\"\n",
    "MODEL_FILE = \"sunrgb20200517T1349\\mask_rcnn_sunrgb_0052.h5\""
   ]
  },
  {
   "cell_type": "code",
   "execution_count": null,
   "metadata": {},
   "outputs": [],
   "source": [
    "main(data_set=SUN, data_dir=SUN_DIR, model_dir=MODEL_DIR, strategy=RGB, augment=False, load_model=False, model_name=MODEL_FILE)\n"
   ]
  },
  {
   "cell_type": "code",
   "execution_count": null,
   "metadata": {},
   "outputs": [],
   "source": []
  }
 ],
 "metadata": {
  "kernelspec": {
   "display_name": "Python 3",
   "language": "python",
   "name": "python3"
  },
  "language_info": {
   "codemirror_mode": {
    "name": "ipython",
    "version": 3
   },
   "file_extension": ".py",
   "mimetype": "text/x-python",
   "name": "python",
   "nbconvert_exporter": "python",
   "pygments_lexer": "ipython3",
   "version": "3.6.8"
  }
 },
 "nbformat": 4,
 "nbformat_minor": 1
}
